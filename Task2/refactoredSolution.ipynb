{
 "cells": [
  {
   "cell_type": "code",
   "execution_count": 1,
   "id": "dcd896e8",
   "metadata": {},
   "outputs": [
    {
     "name": "stderr",
     "output_type": "stream",
     "text": [
      "c:\\Users\\user\\Desktop\\QuantitativeResearch\\venv\\Lib\\site-packages\\tqdm\\auto.py:21: TqdmWarning: IProgress not found. Please update jupyter and ipywidgets. See https://ipywidgets.readthedocs.io/en/stable/user_install.html\n",
      "  from .autonotebook import tqdm as notebook_tqdm\n",
      "Importing plotly failed. Interactive plots will not work.\n",
      "C:\\Users\\user\\AppData\\Local\\Temp\\ipykernel_15744\\2016824133.py:10: UserWarning: Could not infer format, so each element will be parsed individually, falling back to `dateutil`. To ensure parsing is consistent and as-expected, please specify a format.\n",
      "  df['ds'] = pd.to_datetime(df['Dates'])\n",
      "19:03:58 - cmdstanpy - INFO - Chain [1] start processing\n",
      "19:03:58 - cmdstanpy - INFO - Chain [1] done processing\n",
      "c:\\Users\\user\\Desktop\\QuantitativeResearch\\venv\\Lib\\site-packages\\prophet\\forecaster.py:1872: FutureWarning: 'M' is deprecated and will be removed in a future version, please use 'ME' instead.\n",
      "  dates = pd.date_range(\n"
     ]
    }
   ],
   "source": [
    "from datetime import date\n",
    "import math\n",
    "import pandas as pd\n",
    "from prophet import Prophet\n",
    "from scipy.interpolate import interp1d\n",
    "import numpy as np\n",
    "\n",
    "# 1. Load and train Prophet model on your Nat_Gas.csv\n",
    "df = pd.read_csv(\"Nat_Gas.csv\")\n",
    "df['ds'] = pd.to_datetime(df['Dates'])\n",
    "df = df[['ds', 'Prices']].rename(columns={'Prices': 'y'})\n",
    "\n",
    "model = Prophet()\n",
    "model.fit(df)\n",
    "\n",
    "# 2. Forecast 12+ months ahead\n",
    "future = model.make_future_dataframe(periods=18, freq='M')  # extend as needed\n",
    "forecast = model.predict(future)\n",
    "forecast_df = forecast[['ds', 'yhat']].rename(columns={'ds': 'Date', 'yhat': 'Price'})\n",
    "forecast_df.set_index('Date', inplace=True)\n",
    "\n",
    "# 3. Create a price lookup function from Prophet forecast\n",
    "price_interpolator = interp1d(\n",
    "    forecast_df.index.astype(int),\n",
    "    forecast_df['Price'].values,\n",
    "    kind='linear',\n",
    "    fill_value='extrapolate'\n",
    ")\n",
    "\n",
    "def get_forecast_price(dt):\n",
    "    return float(price_interpolator(np.datetime64(dt).astype(int)))\n",
    "\n",
    "# 4. Refactored contract pricing function using forecasted prices\n",
    "def price_forecasted_contract(\n",
    "    in_dates, out_dates, rate,\n",
    "    storage_cost_rate, total_vol, injection_withdrawal_cost_rate\n",
    "):\n",
    "    volume = 0\n",
    "    buy_cost = 0\n",
    "    cash_in = 0\n",
    "    all_dates = sorted(set(in_dates + out_dates))\n",
    "\n",
    "    for current_date in all_dates:\n",
    "        if current_date in in_dates:\n",
    "            if volume <= total_vol - rate:\n",
    "                volume += rate\n",
    "                price = get_forecast_price(current_date)\n",
    "                buy_cost += rate * price + rate * injection_withdrawal_cost_rate\n",
    "                print(f'📦 Injected gas on {current_date} at forecasted price ${price:.2f}')\n",
    "            else:\n",
    "                print(f'⚠️ Cannot inject on {current_date} — storage full.')\n",
    "\n",
    "        elif current_date in out_dates:\n",
    "            if volume >= rate:\n",
    "                volume -= rate\n",
    "                price = get_forecast_price(current_date)\n",
    "                cash_in += rate * price - rate * injection_withdrawal_cost_rate\n",
    "                print(f'💸 Withdrawn gas on {current_date} at forecasted price ${price:.2f}')\n",
    "            else:\n",
    "                print(f'⚠️ Cannot withdraw on {current_date} — not enough stored gas.')\n",
    "\n",
    "    storage_months = math.ceil((max(out_dates) - min(in_dates)).days / 30)\n",
    "    storage_cost = storage_months * storage_cost_rate\n",
    "    net_value = cash_in - buy_cost - storage_cost\n",
    "\n",
    "    print(\"\\n📊 Contract Summary\")\n",
    "    print(f\"Storage months: {storage_months}\")\n",
    "    print(f\"Total injected: {rate * len(in_dates):,} MMBtu\")\n",
    "    print(f\"Total withdrawn: {rate * len(out_dates):,} MMBtu\")\n",
    "    print(f\"Buy cost: ${buy_cost:,.2f}\")\n",
    "    print(f\"Sell revenue: ${cash_in:,.2f}\")\n",
    "    print(f\"Storage cost: ${storage_cost:,.2f}\")\n",
    "    print(f\"✅ Net Contract Value: ${net_value:,.2f}\")\n",
    "\n",
    "    return net_value\n"
   ]
  },
  {
   "cell_type": "code",
   "execution_count": 2,
   "id": "9a7195b5",
   "metadata": {},
   "outputs": [
    {
     "name": "stdout",
     "output_type": "stream",
     "text": [
      "📦 Injected gas on 2025-06-30 at forecasted price $-330.98\n",
      "📦 Injected gas on 2025-07-31 at forecasted price $-330.98\n",
      "💸 Withdrawn gas on 2026-01-31 at forecasted price $-330.98\n",
      "💸 Withdrawn gas on 2026-02-28 at forecasted price $-330.98\n",
      "\n",
      "📊 Contract Summary\n",
      "Storage months: 9\n",
      "Total injected: 2,000,000 MMBtu\n",
      "Total withdrawn: 2,000,000 MMBtu\n",
      "Buy cost: $-661,941,393.03\n",
      "Sell revenue: $-661,981,393.03\n",
      "Storage cost: $720,000.00\n",
      "✅ Net Contract Value: $-760,000.00\n"
     ]
    }
   ],
   "source": [
    "from datetime import date\n",
    "\n",
    "injection_dates = [date(2025, 6, 30), date(2025, 7, 31)]\n",
    "withdrawal_dates = [date(2026, 1, 31), date(2026, 2, 28)]\n",
    "\n",
    "result = price_forecasted_contract(\n",
    "    in_dates=injection_dates,\n",
    "    out_dates=withdrawal_dates,\n",
    "    rate=1_000_000,\n",
    "    storage_cost_rate=80_000,\n",
    "    total_vol=2_000_000,\n",
    "    injection_withdrawal_cost_rate=0.01  # $0.01 per MMBtu\n",
    ")\n"
   ]
  },
  {
   "cell_type": "code",
   "execution_count": null,
   "id": "c7d80100",
   "metadata": {},
   "outputs": [],
   "source": []
  }
 ],
 "metadata": {
  "kernelspec": {
   "display_name": "venv",
   "language": "python",
   "name": "python3"
  },
  "language_info": {
   "codemirror_mode": {
    "name": "ipython",
    "version": 3
   },
   "file_extension": ".py",
   "mimetype": "text/x-python",
   "name": "python",
   "nbconvert_exporter": "python",
   "pygments_lexer": "ipython3",
   "version": "3.12.8"
  }
 },
 "nbformat": 4,
 "nbformat_minor": 5
}
