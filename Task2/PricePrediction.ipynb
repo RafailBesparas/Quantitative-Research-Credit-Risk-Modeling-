{
 "cells": [
  {
   "cell_type": "markdown",
   "id": "f84e398a",
   "metadata": {},
   "source": [
    "# Scenario\n",
    "- A gas trading client wants to store natural gas during the summer and sell it in winter, expecting higher seasonal prices due to a colder-than-average forecast.\n",
    "\n",
    "\n",
    "# My Task\n",
    "- Build a prototype pricing model that calculates the net value of such storage contracts using forecasted natural gas prices and key cost inputs.\n",
    "\n",
    "# Business Value\n",
    "- This model helps the trading desk quickly estimate potential profit/loss from seasonal trades, guiding client negotiations and supporting automated quoting in future.\n",
    "\n",
    "# Explanation\n",
    "- The model forecasts future prices using Prophet, calculates buy/sell values for chosen injection/withdrawal dates, deducts storage and operational costs, and outputs the net contract values."
   ]
  },
  {
   "cell_type": "markdown",
   "id": "d1b68e34",
   "metadata": {},
   "source": [
    "# Import the necessary libraries"
   ]
  },
  {
   "cell_type": "code",
   "execution_count": 1,
   "id": "143c409f",
   "metadata": {},
   "outputs": [
    {
     "name": "stderr",
     "output_type": "stream",
     "text": [
      "c:\\Users\\user\\Desktop\\QuantitativeResearch\\venv\\Lib\\site-packages\\tqdm\\auto.py:21: TqdmWarning: IProgress not found. Please update jupyter and ipywidgets. See https://ipywidgets.readthedocs.io/en/stable/user_install.html\n",
      "  from .autonotebook import tqdm as notebook_tqdm\n",
      "Importing plotly failed. Interactive plots will not work.\n"
     ]
    }
   ],
   "source": [
    "import pandas as pd\n",
    "from prophet import Prophet\n",
    "from scipy.interpolate import interp1d\n",
    "import numpy as np"
   ]
  },
  {
   "cell_type": "markdown",
   "id": "eaa0660b",
   "metadata": {},
   "source": [
    "### Process the dataset to be able to be fitted in prophet"
   ]
  },
  {
   "cell_type": "code",
   "execution_count": 3,
   "id": "d3ad8b1a",
   "metadata": {},
   "outputs": [],
   "source": [
    "# Load natural gas price data\n",
    "df = pd.read_csv(\"Nat_Gas.csv\")"
   ]
  },
  {
   "cell_type": "code",
   "execution_count": 8,
   "id": "58b027b1",
   "metadata": {},
   "outputs": [],
   "source": [
    "# Convert the Dates to datetime\n",
    "df['ds'] = pd.to_datetime(df['Dates'], format='%m/%d/%y')"
   ]
  },
  {
   "cell_type": "markdown",
   "id": "a3b24cc3",
   "metadata": {},
   "source": [
    "- Prophet formatting\n",
    "- ds\tdatestamp\tdatetime64[ns]\n",
    "- y\tthe value to forecast\tfloat or int\n",
    "- Renames 'Prices' → 'y', because Prophet will throw an error if the column is not named 'y'.\n"
   ]
  },
  {
   "cell_type": "code",
   "execution_count": 9,
   "id": "a4421e02",
   "metadata": {},
   "outputs": [],
   "source": [
    "df = df[['ds', 'Prices']].rename(columns={'Prices': 'y'})"
   ]
  },
  {
   "cell_type": "markdown",
   "id": "d9387c9f",
   "metadata": {},
   "source": [
    "- Fit the prophet model"
   ]
  },
  {
   "cell_type": "code",
   "execution_count": 10,
   "id": "52b87364",
   "metadata": {},
   "outputs": [
    {
     "name": "stderr",
     "output_type": "stream",
     "text": [
      "18:22:03 - cmdstanpy - INFO - Chain [1] start processing\n",
      "18:22:04 - cmdstanpy - INFO - Chain [1] done processing\n"
     ]
    },
    {
     "data": {
      "text/plain": [
       "<prophet.forecaster.Prophet at 0x10ea12949e0>"
      ]
     },
     "execution_count": 10,
     "metadata": {},
     "output_type": "execute_result"
    }
   ],
   "source": [
    "model = Prophet()\n",
    "model.fit(df)"
   ]
  },
  {
   "cell_type": "markdown",
   "id": "abd27ec9",
   "metadata": {},
   "source": [
    "- Create the forecasting for the next year based on my last data\n",
    "- Forecast for 12 months"
   ]
  },
  {
   "cell_type": "code",
   "execution_count": 12,
   "id": "056ae24a",
   "metadata": {},
   "outputs": [],
   "source": [
    "# Period 12 = months, M I want the in months\n",
    "future = model.make_future_dataframe(periods=12, freq='ME')"
   ]
  },
  {
   "cell_type": "markdown",
   "id": "4d314304",
   "metadata": {},
   "source": [
    "- Make the prediction"
   ]
  },
  {
   "cell_type": "code",
   "execution_count": 13,
   "id": "d02bdcbd",
   "metadata": {},
   "outputs": [],
   "source": [
    "forecast = model.predict(future)"
   ]
  },
  {
   "cell_type": "code",
   "execution_count": 15,
   "id": "92fb453b",
   "metadata": {},
   "outputs": [
    {
     "data": {
      "text/html": [
       "<div>\n",
       "<style scoped>\n",
       "    .dataframe tbody tr th:only-of-type {\n",
       "        vertical-align: middle;\n",
       "    }\n",
       "\n",
       "    .dataframe tbody tr th {\n",
       "        vertical-align: top;\n",
       "    }\n",
       "\n",
       "    .dataframe thead th {\n",
       "        text-align: right;\n",
       "    }\n",
       "</style>\n",
       "<table border=\"1\" class=\"dataframe\">\n",
       "  <thead>\n",
       "    <tr style=\"text-align: right;\">\n",
       "      <th></th>\n",
       "      <th>ds</th>\n",
       "      <th>trend</th>\n",
       "      <th>yhat_lower</th>\n",
       "      <th>yhat_upper</th>\n",
       "      <th>trend_lower</th>\n",
       "      <th>trend_upper</th>\n",
       "      <th>additive_terms</th>\n",
       "      <th>additive_terms_lower</th>\n",
       "      <th>additive_terms_upper</th>\n",
       "      <th>yearly</th>\n",
       "      <th>yearly_lower</th>\n",
       "      <th>yearly_upper</th>\n",
       "      <th>multiplicative_terms</th>\n",
       "      <th>multiplicative_terms_lower</th>\n",
       "      <th>multiplicative_terms_upper</th>\n",
       "      <th>yhat</th>\n",
       "    </tr>\n",
       "  </thead>\n",
       "  <tbody>\n",
       "    <tr>\n",
       "      <th>0</th>\n",
       "      <td>2020-10-31</td>\n",
       "      <td>10.181210</td>\n",
       "      <td>9.743990</td>\n",
       "      <td>10.102612</td>\n",
       "      <td>10.181210</td>\n",
       "      <td>10.181210</td>\n",
       "      <td>-0.251702</td>\n",
       "      <td>-0.251702</td>\n",
       "      <td>-0.251702</td>\n",
       "      <td>-0.251702</td>\n",
       "      <td>-0.251702</td>\n",
       "      <td>-0.251702</td>\n",
       "      <td>0.0</td>\n",
       "      <td>0.0</td>\n",
       "      <td>0.0</td>\n",
       "      <td>9.929508</td>\n",
       "    </tr>\n",
       "    <tr>\n",
       "      <th>1</th>\n",
       "      <td>2020-11-30</td>\n",
       "      <td>10.223802</td>\n",
       "      <td>10.294246</td>\n",
       "      <td>10.643241</td>\n",
       "      <td>10.223802</td>\n",
       "      <td>10.223802</td>\n",
       "      <td>0.256567</td>\n",
       "      <td>0.256567</td>\n",
       "      <td>0.256567</td>\n",
       "      <td>0.256567</td>\n",
       "      <td>0.256567</td>\n",
       "      <td>0.256567</td>\n",
       "      <td>0.0</td>\n",
       "      <td>0.0</td>\n",
       "      <td>0.0</td>\n",
       "      <td>10.480370</td>\n",
       "    </tr>\n",
       "    <tr>\n",
       "      <th>2</th>\n",
       "      <td>2020-12-31</td>\n",
       "      <td>10.267815</td>\n",
       "      <td>10.737399</td>\n",
       "      <td>11.084495</td>\n",
       "      <td>10.267815</td>\n",
       "      <td>10.267815</td>\n",
       "      <td>0.645077</td>\n",
       "      <td>0.645077</td>\n",
       "      <td>0.645077</td>\n",
       "      <td>0.645077</td>\n",
       "      <td>0.645077</td>\n",
       "      <td>0.645077</td>\n",
       "      <td>0.0</td>\n",
       "      <td>0.0</td>\n",
       "      <td>0.0</td>\n",
       "      <td>10.912891</td>\n",
       "    </tr>\n",
       "    <tr>\n",
       "      <th>3</th>\n",
       "      <td>2021-01-31</td>\n",
       "      <td>10.311827</td>\n",
       "      <td>10.785443</td>\n",
       "      <td>11.134789</td>\n",
       "      <td>10.311827</td>\n",
       "      <td>10.311827</td>\n",
       "      <td>0.639250</td>\n",
       "      <td>0.639250</td>\n",
       "      <td>0.639250</td>\n",
       "      <td>0.639250</td>\n",
       "      <td>0.639250</td>\n",
       "      <td>0.639250</td>\n",
       "      <td>0.0</td>\n",
       "      <td>0.0</td>\n",
       "      <td>0.0</td>\n",
       "      <td>10.951076</td>\n",
       "    </tr>\n",
       "    <tr>\n",
       "      <th>4</th>\n",
       "      <td>2021-02-28</td>\n",
       "      <td>10.351580</td>\n",
       "      <td>10.722169</td>\n",
       "      <td>11.079732</td>\n",
       "      <td>10.351580</td>\n",
       "      <td>10.351580</td>\n",
       "      <td>0.548535</td>\n",
       "      <td>0.548535</td>\n",
       "      <td>0.548535</td>\n",
       "      <td>0.548535</td>\n",
       "      <td>0.548535</td>\n",
       "      <td>0.548535</td>\n",
       "      <td>0.0</td>\n",
       "      <td>0.0</td>\n",
       "      <td>0.0</td>\n",
       "      <td>10.900115</td>\n",
       "    </tr>\n",
       "  </tbody>\n",
       "</table>\n",
       "</div>"
      ],
      "text/plain": [
       "          ds      trend  yhat_lower  yhat_upper  trend_lower  trend_upper  \\\n",
       "0 2020-10-31  10.181210    9.743990   10.102612    10.181210    10.181210   \n",
       "1 2020-11-30  10.223802   10.294246   10.643241    10.223802    10.223802   \n",
       "2 2020-12-31  10.267815   10.737399   11.084495    10.267815    10.267815   \n",
       "3 2021-01-31  10.311827   10.785443   11.134789    10.311827    10.311827   \n",
       "4 2021-02-28  10.351580   10.722169   11.079732    10.351580    10.351580   \n",
       "\n",
       "   additive_terms  additive_terms_lower  additive_terms_upper    yearly  \\\n",
       "0       -0.251702             -0.251702             -0.251702 -0.251702   \n",
       "1        0.256567              0.256567              0.256567  0.256567   \n",
       "2        0.645077              0.645077              0.645077  0.645077   \n",
       "3        0.639250              0.639250              0.639250  0.639250   \n",
       "4        0.548535              0.548535              0.548535  0.548535   \n",
       "\n",
       "   yearly_lower  yearly_upper  multiplicative_terms  \\\n",
       "0     -0.251702     -0.251702                   0.0   \n",
       "1      0.256567      0.256567                   0.0   \n",
       "2      0.645077      0.645077                   0.0   \n",
       "3      0.639250      0.639250                   0.0   \n",
       "4      0.548535      0.548535                   0.0   \n",
       "\n",
       "   multiplicative_terms_lower  multiplicative_terms_upper       yhat  \n",
       "0                         0.0                         0.0   9.929508  \n",
       "1                         0.0                         0.0  10.480370  \n",
       "2                         0.0                         0.0  10.912891  \n",
       "3                         0.0                         0.0  10.951076  \n",
       "4                         0.0                         0.0  10.900115  "
      ]
     },
     "execution_count": 15,
     "metadata": {},
     "output_type": "execute_result"
    }
   ],
   "source": [
    "forecast.head(5)"
   ]
  },
  {
   "cell_type": "markdown",
   "id": "5e1aea94",
   "metadata": {},
   "source": [
    "### Exaplanation of Each Line\n",
    "- ds: The date we're forecasting for.\n",
    "- trend: The general direction the values are moving over time (upward or downward).\n",
    "- yhat_lower: The lowest expected value (pessimistic guess).\n",
    "- yhat_upper: The highest expected value (optimistic guess).\n",
    "- trend_lower: The lowest the trend might realistically go.\n",
    "- trend_upper: The highest the trend might realistically go.\n",
    "- additive_terms: Effects like seasonality (e.g., holidays or monthly patterns) added to the trend.\n",
    "- additive_terms_lower: The lowest those seasonal effects might be.\n",
    "- additive_terms_upper: The highest those seasonal effects might be.\n",
    "- yearly: The specific effect of repeating yearly patterns.\n",
    "- yearly_lower: Minimum expected impact from the yearly pattern.\n",
    "- yearly_upper: Maximum expected impact from the yearly pattern.\n",
    "- multiplicative_terms: If seasonality changes depending on the value size (e.g., higher sales = bigger seasonal spike).\n",
    "- multiplicative_terms_lower: Lowest impact of that change.\n",
    "- multiplicative_terms_upper: Highest impact of that change.\n",
    "- yhat: The predicted value — what the model thinks will happen."
   ]
  },
  {
   "cell_type": "markdown",
   "id": "6b27629b",
   "metadata": {},
   "source": [
    "- Forecast Dataframe\n",
    "1. Pick the most important columns 'ds', 'yhat -> Forecasted Date and predicted value, rename them to be more easily understandable to non technical stakeholders\n",
    "2. ds → Date: So it's clear this column holds the dates.\n",
    "3. yhat → Price: So it's clear this column holds the predicted prices (or values you're forecasting).\n",
    "4. This will make my data more readable and make me able to create charts"
   ]
  },
  {
   "cell_type": "code",
   "execution_count": 16,
   "id": "4d2eed9d",
   "metadata": {},
   "outputs": [],
   "source": [
    "forecast_df = forecast[['ds', 'yhat']].rename(columns={'ds': 'Date', 'yhat': 'Price'})"
   ]
  },
  {
   "cell_type": "code",
   "execution_count": 17,
   "id": "e760dcfb",
   "metadata": {},
   "outputs": [],
   "source": [
    "forecast_df.set_index('Date', inplace=True)"
   ]
  },
  {
   "cell_type": "markdown",
   "id": "0d42debd",
   "metadata": {},
   "source": [
    "# Create the pricing Function\n",
    "- injection_dates -> A list of dates when natural gas is planned to be injected into storage.\n",
    "- withdrawal_dates -> A list of dates when natural gas is planned to be withdrawn from storage.\n",
    "- forecast_df -> A table (DataFrame) containing future gas price predictions over time.\n",
    "- rate -> The maximum amount of gas you can inject or withdraw per day (or another time unit).\n",
    "- max_volume -> The total storage capacity available (in cubic meters or MMBtu).\n",
    "- storage_cost_per_month -> The monthly cost of storing gas ( rent for storage facility).\n",
    "- contract_name -> The name or ID of the gas storage contract\n",
    "\n",
    "## Business Value for each constraint\n",
    "-  Use price forecasts to make profitable decisions.\n",
    "- Respect real-world physical and financial limits.\n",
    "- Plan smartly under a named contract.\n",
    "\n",
    "\n",
    "## Linear Interpolation Function\n",
    "- A function that estimates the gas price on any date by drawing straight lines between known forecast points.\n",
    "- Because my injection - withdrawal dates might not exactly match the forecast dates so the interpolation gives a realistic price estimate for any in between day.\n",
    "\n",
    "## Average buy price based on injection dates\n",
    "- Mean of forecasted prices on all the days when gas is injected into storage.\n",
    "- Why -> To find out how much my client is paying on average to purchase the gas you'll store.\n",
    "- This helps compare against the future sell price and calculate your potential profit or loss.\n",
    "\n",
    "## Average sell price based on withdrawal dates\n",
    "-  Mean forecasted price on the days when gas is withdrawn from storage, which is when it's typically sold.\n",
    "- Why -> To estimate the average revenue per unit of gas sold, helping you measure the profit margin when compared to the average buy price.\n"
   ]
  },
  {
   "cell_type": "code",
   "execution_count": 18,
   "id": "868299b1",
   "metadata": {},
   "outputs": [],
   "source": [
    "\n",
    "def evaluate_contract(\n",
    "    injection_dates, withdrawal_dates, forecast_df,\n",
    "    rate, max_volume, storage_cost_per_month,\n",
    "    contract_name\n",
    "):\n",
    "\n",
    "    # Convert all injection and withdrawal dates to datetime format for accurate calculations\n",
    "    injection_dates = [pd.to_datetime(d) for d in injection_dates]\n",
    "    withdrawal_dates = [pd.to_datetime(d) for d in withdrawal_dates]\n",
    "\n",
    "    # Extract the forecasted price series which is natural gas\n",
    "    forecast_series = forecast_df['Price']\n",
    "\n",
    "    # Create a linear interpolation function to estimate prices on any given date\n",
    "    # This allows  to get price values even if the dates don't exactly match the forecast_df index\n",
    "    interpolator = interp1d(\n",
    "        forecast_series.index.astype(int),  # Convert dates to integer timestamps\n",
    "        forecast_series.values, # Corresponding price values\n",
    "        kind='linear', # Use straight-line approximation between points\n",
    "        fill_value='extrapolate'  # Allow prediction beyond given date range\n",
    "    )\n",
    "\n",
    "    # Helper function : to get the estimated price for any specific date, use the interpolator (proposed by Chatgtp)\n",
    "    def get_price(date):\n",
    "        return float(interpolator(np.datetime64(date).astype(int)))\n",
    "\n",
    "    # Calculate how much gas will be injected and withdrawn in total (based on rate and number of days)\n",
    "    injected_volume = rate * len(injection_dates) # rate * how many days we are injecting days\n",
    "    withdrawn_volume = rate * len(withdrawal_dates) # rate * how many days we are withdrawing\n",
    "\n",
    "    # Check-up: How much gas is effectively traded , cannot exceed what was injected, withdrawn, or storage capacity.\n",
    "    volume = min(injected_volume, withdrawn_volume, max_volume)\n",
    "\n",
    "    # Compute average buy price based on injection dates, when gas is purchased\n",
    "    buy_price = np.mean([get_price(d) for d in injection_dates])\n",
    "\n",
    "    # Compute average sell price based on withdrawal dates, when gas is sold\n",
    "    sell_price = np.mean([get_price(d) for d in withdrawal_dates])\n",
    "\n",
    "    # Constraints given by JP Scenarion may differ to other problems\n",
    "\n",
    "    # Gross profit: (sell price - buy price) × volume of gas\n",
    "    gross_value = (sell_price - buy_price) * volume\n",
    "\n",
    "    # Estimate how long the gas will be stored (in months) from first injection to last withdrawal\n",
    "    storage_months = (withdrawal_dates[-1] - injection_dates[0]).days // 30\n",
    "\n",
    "    # Total storage cost: monthly cost × number of months stored\n",
    "    storage_cost = storage_months * storage_cost_per_month\n",
    "\n",
    "    # Profit -> gross value minus the cost of storing the gas\n",
    "    net_value = gross_value - storage_cost\n",
    "\n",
    "    # Given by chatgtp to show my reasults better\n",
    "    return {\n",
    "        \"📄 Contract\": contract_name,\n",
    "        \"📆 Injection Dates\": [str(d.date()) for d in injection_dates],\n",
    "        \"📆 Withdrawal Dates\": [str(d.date()) for d in withdrawal_dates],\n",
    "        \"💰 Buy Price (USD/MMBtu)\": round(buy_price, 2),\n",
    "        \"💵 Sell Price (USD/MMBtu)\": round(sell_price, 2),\n",
    "        \"📦 Volume (MMBtu)\": int(volume),\n",
    "        \"📈 Gross Value ($)\": round(gross_value, 2),\n",
    "        \"🏢 Storage Cost ($)\": round(storage_cost, 2),\n",
    "        \"✅ Net Contract Value ($)\": round(net_value, 2)\n",
    "    }\n"
   ]
  },
  {
   "cell_type": "markdown",
   "id": "f9611a2b",
   "metadata": {},
   "source": [
    "- Scenario 1"
   ]
  },
  {
   "cell_type": "code",
   "execution_count": 20,
   "id": "7141f9fc",
   "metadata": {},
   "outputs": [],
   "source": [
    "result = evaluate_contract(\n",
    "    contract_name=\"Winter Hedge 2025-2026\",\n",
    "    injection_dates=['2025-07-31', '2025-08-31'],\n",
    "    withdrawal_dates=['2025-12-31', '2026-01-31'],\n",
    "    forecast_df=forecast_df,\n",
    "    rate=1_000_000,\n",
    "    max_volume=2_000_000,\n",
    "    storage_cost_per_month=100_000\n",
    ")"
   ]
  },
  {
   "cell_type": "code",
   "execution_count": 21,
   "id": "56dd6a71",
   "metadata": {},
   "outputs": [
    {
     "data": {
      "text/plain": [
       "{'📄 Contract': 'Winter Hedge 2025-2026',\n",
       " '📆 Injection Dates': ['2025-07-31', '2025-08-31'],\n",
       " '📆 Withdrawal Dates': ['2025-12-31', '2026-01-31'],\n",
       " '💰 Buy Price (USD/MMBtu)': np.float64(-330.61),\n",
       " '💵 Sell Price (USD/MMBtu)': np.float64(-330.6),\n",
       " '📦 Volume (MMBtu)': 2000000,\n",
       " '📈 Gross Value ($)': np.float64(5618.79),\n",
       " '🏢 Storage Cost ($)': 600000,\n",
       " '✅ Net Contract Value ($)': np.float64(-594381.21)}"
      ]
     },
     "execution_count": 21,
     "metadata": {},
     "output_type": "execute_result"
    }
   ],
   "source": [
    "result"
   ]
  },
  {
   "cell_type": "markdown",
   "id": "d0732802",
   "metadata": {},
   "source": [
    "- loss of $594,381.21"
   ]
  },
  {
   "cell_type": "code",
   "execution_count": 23,
   "id": "28b8d6e6",
   "metadata": {},
   "outputs": [
    {
     "name": "stdout",
     "output_type": "stream",
     "text": [
      "{'📄 Contract': 'Deep Winter Sale 2025', '📆 Injection Dates': ['2025-06-30', '2025-07-31'], '📆 Withdrawal Dates': ['2025-12-31', '2026-01-31'], '💰 Buy Price (USD/MMBtu)': np.float64(-330.61), '💵 Sell Price (USD/MMBtu)': np.float64(-330.6), '📦 Volume (MMBtu)': 2000000, '📈 Gross Value ($)': np.float64(6757.24), '🏢 Storage Cost ($)': 840000, '✅ Net Contract Value ($)': np.float64(-833242.76)}\n",
      "{'📄 Contract': 'Autumn Arbitrage 2025', '📆 Injection Dates': ['2025-09-30', '2025-10-31'], '📆 Withdrawal Dates': ['2025-11-30', '2025-12-31'], '💰 Buy Price (USD/MMBtu)': np.float64(-330.61), '💵 Sell Price (USD/MMBtu)': np.float64(-330.61), '📦 Volume (MMBtu)': 1000000, '📈 Gross Value ($)': np.float64(1120.09), '🏢 Storage Cost ($)': 240000, '✅ Net Contract Value ($)': np.float64(-238879.91)}\n"
     ]
    }
   ],
   "source": [
    "# Scenario 1: Deep Winter Sale 2025\n",
    "scenario_1 = evaluate_contract(\n",
    "    contract_name=\"Deep Winter Sale 2025\",\n",
    "    injection_dates=['2025-06-30', '2025-07-31'],\n",
    "    withdrawal_dates=['2025-12-31', '2026-01-31'],\n",
    "    forecast_df=forecast_df,\n",
    "    rate=1_000_000,\n",
    "    max_volume=2_000_000,\n",
    "    storage_cost_per_month=120_000\n",
    ")\n",
    "\n",
    "# Scenario 2: Autumn Arbitrage 2025\n",
    "scenario_2 = evaluate_contract(\n",
    "    contract_name=\"Autumn Arbitrage 2025\",\n",
    "    injection_dates=['2025-09-30', '2025-10-31'],\n",
    "    withdrawal_dates=['2025-11-30', '2025-12-31'],\n",
    "    forecast_df=forecast_df,\n",
    "    rate=500_000,\n",
    "    max_volume=1_000_000,\n",
    "    storage_cost_per_month=80_000\n",
    ")\n",
    "\n",
    "# Display Results\n",
    "print(scenario_1)\n",
    "print(scenario_2)"
   ]
  },
  {
   "cell_type": "code",
   "execution_count": 27,
   "id": "860b874a",
   "metadata": {},
   "outputs": [],
   "source": [
    "# Corrected Scenario 3: Peak Winter Play 2025\n",
    "scenario_3 = evaluate_contract(\n",
    "    contract_name=\"Peak Winter Play 2025\",\n",
    "    injection_dates=['2025-06-30', '2025-07-31'],\n",
    "    withdrawal_dates=['2026-01-31', '2026-02-28'], \n",
    "    forecast_df=forecast_df,\n",
    "    rate=1_000_000,\n",
    "    max_volume=2_000_000,\n",
    "    storage_cost_per_month=80_000\n",
    ")\n"
   ]
  },
  {
   "cell_type": "code",
   "execution_count": 29,
   "id": "685ae5d7",
   "metadata": {},
   "outputs": [
    {
     "data": {
      "text/plain": [
       "{'📄 Contract': 'Peak Winter Play 2025',\n",
       " '📆 Injection Dates': ['2025-06-30', '2025-07-31'],\n",
       " '📆 Withdrawal Dates': ['2026-01-31', '2026-02-28'],\n",
       " '💰 Buy Price (USD/MMBtu)': np.float64(-330.61),\n",
       " '💵 Sell Price (USD/MMBtu)': np.float64(-330.6),\n",
       " '📦 Volume (MMBtu)': 2000000,\n",
       " '📈 Gross Value ($)': np.float64(7840.6),\n",
       " '🏢 Storage Cost ($)': 640000,\n",
       " '✅ Net Contract Value ($)': np.float64(-632159.4)}"
      ]
     },
     "execution_count": 29,
     "metadata": {},
     "output_type": "execute_result"
    }
   ],
   "source": [
    "scenario_3"
   ]
  },
  {
   "cell_type": "markdown",
   "id": "52473a0c",
   "metadata": {},
   "source": [
    "- Interpretability Function"
   ]
  },
  {
   "cell_type": "code",
   "execution_count": 34,
   "id": "9bb3f1f8",
   "metadata": {},
   "outputs": [],
   "source": [
    "def interpret_result(result):\n",
    "    \"\"\"\n",
    "    Takes a dictionary returned by evaluate_storage_contract()\n",
    "    and prints a summary of whether the contract was profitable or not.\n",
    "    \"\"\"\n",
    "    contract_name = result.get(\"📄 Contract\", \"Unnamed Contract\")\n",
    "    net_value = result.get(\"✅ Net Contract Value ($)\", 0)\n",
    "\n",
    "    if net_value > 0:\n",
    "        print(f\" {contract_name}: PROFIT of ${net_value:,.2f}\")\n",
    "    elif net_value < 0:\n",
    "        print(f\" {contract_name}: LOSS of ${abs(net_value):,.2f}\")\n",
    "    else:\n",
    "        print(f\" {contract_name}: BREAK-EVEN (No profit or loss)\")"
   ]
  },
  {
   "cell_type": "code",
   "execution_count": 35,
   "id": "30785abc",
   "metadata": {},
   "outputs": [
    {
     "name": "stdout",
     "output_type": "stream",
     "text": [
      " Deep Winter Sale 2025: LOSS of $833,242.76\n",
      "None\n",
      " Autumn Arbitrage 2025: LOSS of $238,879.91\n",
      "None\n",
      " Peak Winter Play 2025: LOSS of $632,159.40\n",
      "None\n"
     ]
    }
   ],
   "source": [
    "print(interpret_result(scenario_1))\n",
    "print(interpret_result(scenario_2))\n",
    "print(interpret_result(scenario_3))"
   ]
  },
  {
   "cell_type": "code",
   "execution_count": null,
   "id": "29665be4",
   "metadata": {},
   "outputs": [],
   "source": []
  }
 ],
 "metadata": {
  "kernelspec": {
   "display_name": "venv",
   "language": "python",
   "name": "python3"
  },
  "language_info": {
   "codemirror_mode": {
    "name": "ipython",
    "version": 3
   },
   "file_extension": ".py",
   "mimetype": "text/x-python",
   "name": "python",
   "nbconvert_exporter": "python",
   "pygments_lexer": "ipython3",
   "version": "3.12.8"
  }
 },
 "nbformat": 4,
 "nbformat_minor": 5
}
